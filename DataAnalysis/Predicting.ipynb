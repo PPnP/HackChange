{
 "cells": [
  {
   "cell_type": "code",
   "execution_count": 269,
   "metadata": {},
   "outputs": [],
   "source": [
    "import xgboost\n",
    "import pandas as pd\n",
    "import sklearn.metrics as metr\n",
    "from sklearn.model_selection import train_test_split\n",
    "from sklearn.linear_model import LinearRegression\n",
    "\n",
    "from sklearn.multioutput import MultiOutputRegressor"
   ]
  },
  {
   "cell_type": "code",
   "execution_count": 292,
   "metadata": {},
   "outputs": [],
   "source": [
    "data = pd.read_csv('data/reformatted_data.csv').drop(['Unnamed: 0', 'REGION'], axis=1)\n",
    "data = data[data.hh_500 > 50]"
   ]
  },
  {
   "cell_type": "code",
   "execution_count": 293,
   "metadata": {},
   "outputs": [],
   "source": [
    "postamats = data[data.Postamat_daily == data.Postamat_daily].copy()\n",
    "cashboxes = data[data.cashbox_daily == data.cashbox_daily].copy()"
   ]
  },
  {
   "cell_type": "code",
   "execution_count": 294,
   "metadata": {},
   "outputs": [],
   "source": [
    "postamats.drop(['CITY', 'ADDRESS', 'cashbox_daily', 'cashbox_MAX', 'cashbox_trend', 'Postamat_trend', 'coords'], axis=1, inplace=True)"
   ]
  },
  {
   "cell_type": "code",
   "execution_count": 295,
   "metadata": {},
   "outputs": [],
   "source": [
    "cashboxes.drop(['CITY', 'ADDRESS', 'Postamat_daily', 'Postamat_trend', 'cashbox_trend', 'coords'], axis=1, inplace=True)"
   ]
  },
  {
   "cell_type": "code",
   "execution_count": 296,
   "metadata": {},
   "outputs": [
    {
     "name": "stdout",
     "output_type": "stream",
     "text": [
      "False\n",
      "False\n"
     ]
    }
   ],
   "source": [
    "print(postamats.isna().any().any())\n",
    "print(cashboxes.isna().any().any())"
   ]
  },
  {
   "cell_type": "code",
   "execution_count": 297,
   "metadata": {},
   "outputs": [
    {
     "data": {
      "text/plain": [
       "Index(['cashbox_daily', 'cashbox_MAX', 'hh_500', 'value1', 'value2',\n",
       "       'POPULATION', 'NEAR_Malls', 'NEAR_Business_centers', 'NEAR_metro_rjd',\n",
       "       'macro_salary_avg_yearly', 'Avg_check', 'dist_to_closest_shop',\n",
       "       'dist_to_closest_postomat', 'dist_to_competitor', 'dist_to_post',\n",
       "       'NEAR_shops', 'NEAR_stops'],\n",
       "      dtype='object')"
      ]
     },
     "execution_count": 297,
     "metadata": {},
     "output_type": "execute_result"
    }
   ],
   "source": [
    "cashboxes.columns"
   ]
  },
  {
   "cell_type": "code",
   "execution_count": 298,
   "metadata": {},
   "outputs": [],
   "source": [
    "X_p = postamats[['hh_500', 'value1', 'value2', 'POPULATION',\n",
    "       'NEAR_Malls', 'NEAR_Business_centers', 'NEAR_metro_rjd',\n",
    "       'macro_salary_avg_yearly', 'Avg_check', 'dist_to_closest_shop',\n",
    "       'dist_to_closest_postomat', 'dist_to_competitor', 'dist_to_post',\n",
    "       'NEAR_shops', 'NEAR_stops']]\n",
    "y_p = postamats[['Postamat_daily']]"
   ]
  },
  {
   "cell_type": "code",
   "execution_count": 299,
   "metadata": {},
   "outputs": [],
   "source": [
    "X_c = cashboxes[['hh_500', 'value1', 'value2',\n",
    "       'POPULATION', 'NEAR_Malls', 'NEAR_Business_centers', 'NEAR_metro_rjd',\n",
    "       'macro_salary_avg_yearly', 'Avg_check', 'dist_to_closest_shop',\n",
    "       'dist_to_closest_postomat', 'dist_to_competitor', 'dist_to_post',\n",
    "       'NEAR_shops', 'NEAR_stops']]\n",
    "y_c = cashboxes[['cashbox_daily', 'cashbox_MAX']]"
   ]
  },
  {
   "cell_type": "code",
   "execution_count": 300,
   "metadata": {},
   "outputs": [],
   "source": [
    "X_train_p, X_test_p, y_train_p, y_test_p = train_test_split(X_p, y_p)\n",
    "X_train_c, X_test_c, y_train_c, y_test_c = train_test_split(X_c, y_c)"
   ]
  },
  {
   "cell_type": "code",
   "execution_count": 301,
   "metadata": {},
   "outputs": [
    {
     "data": {
      "text/plain": [
       "1.767740775279459"
      ]
     },
     "execution_count": 301,
     "metadata": {},
     "output_type": "execute_result"
    }
   ],
   "source": [
    "xgb_p = xgboost.XGBRegressor(objective='reg:squarederror', max_depth=4, learning_rate=0.1, subsample=0.85, gamma=0.1, n_estimators=500)\n",
    "xgb_p.fit(X_train_p, y_train_p)\n",
    "metr.mean_squared_error(xgb_p.predict(X_test_p), y_test_p)"
   ]
  },
  {
   "cell_type": "code",
   "execution_count": 302,
   "metadata": {},
   "outputs": [
    {
     "data": {
      "text/plain": [
       "7.565617579473066"
      ]
     },
     "execution_count": 302,
     "metadata": {},
     "output_type": "execute_result"
    }
   ],
   "source": [
    "xgb_c = MultiOutputRegressor(xgboost.XGBRegressor(objective='reg:squarederror', max_depth=4,\n",
    "                                                             learning_rate=0.1, subsample=0.85, \n",
    "                                                             gamma=0.1, n_estimators=500)).fit(X_train_c, y_train_c)\n",
    "xgb_c.predict(X_test_c)\n",
    "metr.mean_squared_error(xgb_c.predict(X_test_c), y_test_c)"
   ]
  },
  {
   "cell_type": "markdown",
   "metadata": {},
   "source": [
    "Работает нормально - обучим на всех данных"
   ]
  },
  {
   "cell_type": "code",
   "execution_count": 303,
   "metadata": {},
   "outputs": [
    {
     "data": {
      "text/plain": [
       "XGBRegressor(base_score=0.5, booster='gbtree', colsample_bylevel=1,\n",
       "             colsample_bynode=1, colsample_bytree=1, gamma=0.1,\n",
       "             importance_type='gain', learning_rate=0.1, max_delta_step=0,\n",
       "             max_depth=4, min_child_weight=1, missing=None, n_estimators=500,\n",
       "             n_jobs=1, nthread=None, objective='reg:squarederror',\n",
       "             random_state=0, reg_alpha=0, reg_lambda=1, scale_pos_weight=1,\n",
       "             seed=None, silent=None, subsample=0.85, verbosity=1)"
      ]
     },
     "execution_count": 303,
     "metadata": {},
     "output_type": "execute_result"
    }
   ],
   "source": [
    "xgb_p = xgboost.XGBRegressor(objective='reg:squarederror', max_depth=4, learning_rate=0.1, subsample=0.85, gamma=0.1, n_estimators=500)\n",
    "xgb_p.fit(X_p, y_p)"
   ]
  },
  {
   "cell_type": "code",
   "execution_count": 304,
   "metadata": {},
   "outputs": [],
   "source": [
    "xgb_c = MultiOutputRegressor(xgboost.XGBRegressor(objective='reg:squarederror', max_depth=4,\n",
    "                                                             learning_rate=0.1, subsample=0.85, \n",
    "                                                             gamma=0.1, n_estimators=500)).fit(X_c, y_c)"
   ]
  },
  {
   "cell_type": "code",
   "execution_count": 305,
   "metadata": {},
   "outputs": [],
   "source": [
    "postamats_target = data[data.Postamat_daily != data.Postamat_daily].copy()\n",
    "cashboxes_target = data[data.cashbox_daily != data.cashbox_daily].copy()"
   ]
  },
  {
   "cell_type": "code",
   "execution_count": 306,
   "metadata": {},
   "outputs": [
    {
     "data": {
      "text/plain": [
       "Index(['ADDRESS', 'CITY', 'Postamat_daily', 'cashbox_daily', 'Postamat_trend',\n",
       "       'cashbox_MAX', 'cashbox_trend', 'hh_500', 'value1', 'value2',\n",
       "       'POPULATION', 'NEAR_Malls', 'NEAR_Business_centers', 'NEAR_metro_rjd',\n",
       "       'macro_salary_avg_yearly', 'Avg_check', 'coords',\n",
       "       'dist_to_closest_shop', 'dist_to_closest_postomat',\n",
       "       'dist_to_competitor', 'dist_to_post', 'NEAR_shops', 'NEAR_stops'],\n",
       "      dtype='object')"
      ]
     },
     "execution_count": 306,
     "metadata": {},
     "output_type": "execute_result"
    }
   ],
   "source": [
    "postamats_target.columns"
   ]
  },
  {
   "cell_type": "code",
   "execution_count": 308,
   "metadata": {},
   "outputs": [],
   "source": [
    "pred_p = xgb_p.predict(postamats_target.drop(['CITY', 'ADDRESS', 'Postamat_daily', 'cashbox_daily', \n",
    "                                              'Postamat_trend', 'cashbox_MAX', 'cashbox_trend', 'coords'], axis=1))\n",
    "postamats_target['Postamat_daily'] = pred_p"
   ]
  },
  {
   "cell_type": "code",
   "execution_count": 309,
   "metadata": {},
   "outputs": [],
   "source": [
    "pred_c = xgb_c.predict(cashboxes_target.drop(['CITY', 'ADDRESS', 'cashbox_daily', 'cashbox_MAX',\n",
    "                                              'Postamat_daily', 'Postamat_trend', 'cashbox_trend', 'coords'], axis=1))"
   ]
  },
  {
   "cell_type": "code",
   "execution_count": 310,
   "metadata": {},
   "outputs": [],
   "source": [
    "cashboxes_target['cashbox_daily'] = pred_c[:, 0]\n",
    "cashboxes_target['cashbox_MAX'] = pred_c[:, 1]"
   ]
  },
  {
   "cell_type": "code",
   "execution_count": 311,
   "metadata": {},
   "outputs": [],
   "source": [
    "postamats_target.to_csv('data/postamats_predicted.csv')"
   ]
  },
  {
   "cell_type": "code",
   "execution_count": 312,
   "metadata": {},
   "outputs": [],
   "source": [
    "cashboxes_target.to_csv('data/cashboxes_predicted.csv')"
   ]
  },
  {
   "cell_type": "code",
   "execution_count": 343,
   "metadata": {},
   "outputs": [],
   "source": [
    "postamats_target[postamats_target.Postamat_daily > 2.325].to_json('data/top50_postamats.json', orient='index')"
   ]
  },
  {
   "cell_type": "code",
   "execution_count": 330,
   "metadata": {},
   "outputs": [],
   "source": [
    "cashboxes_target[cashboxes_target.cashbox_daily > 1.08].to_json('data/top100_cashboxes.json', orient='index')"
   ]
  },
  {
   "cell_type": "code",
   "execution_count": 342,
   "metadata": {},
   "outputs": [
    {
     "data": {
      "text/plain": [
       "(50, 23)"
      ]
     },
     "execution_count": 342,
     "metadata": {},
     "output_type": "execute_result"
    }
   ],
   "source": [
    "postamats_target[postamats_target.Postamat_daily > 2.325].shape"
   ]
  },
  {
   "cell_type": "code",
   "execution_count": 345,
   "metadata": {},
   "outputs": [
    {
     "data": {
      "text/plain": [
       "(46, 23)"
      ]
     },
     "execution_count": 345,
     "metadata": {},
     "output_type": "execute_result"
    }
   ],
   "source": [
    "cashboxes_target[cashboxes_target.cashbox_daily > 1.5].shape"
   ]
  },
  {
   "cell_type": "code",
   "execution_count": null,
   "metadata": {},
   "outputs": [],
   "source": []
  }
 ],
 "metadata": {
  "kernelspec": {
   "display_name": "Python 3",
   "language": "python",
   "name": "python3"
  },
  "language_info": {
   "codemirror_mode": {
    "name": "ipython",
    "version": 3
   },
   "file_extension": ".py",
   "mimetype": "text/x-python",
   "name": "python",
   "nbconvert_exporter": "python",
   "pygments_lexer": "ipython3",
   "version": "3.6.8"
  }
 },
 "nbformat": 4,
 "nbformat_minor": 4
}
